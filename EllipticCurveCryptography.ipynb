{
 "cells": [
  {
   "cell_type": "code",
   "execution_count": 1,
   "metadata": {},
   "outputs": [],
   "source": [
    "from hashlib import sha1\n",
    "from Crypto.Cipher import AES\n",
    "import hmac\n",
    "from binascii import a2b_hex\n",
    "\n",
    "def point2str(R, l):\n",
    "    (rx, ry) = R.xy()\n",
    "    rxstr = I2OSP(rx, l)\n",
    "    rystr = I2OSP(ry, l)\n",
    "    rstr = rxstr + rystr\n",
    "    return rstr\n",
    "\n",
    "def padding(s):\n",
    "    return s + (b\"\\0\" * (AES.block_size - len(s) % AES.block_size)).decode(\"utf-8\")\n",
    "\n",
    "def keyDerivation(x, l, certi):\n",
    "    assert l >= 0\n",
    "    k = l / float(20)\n",
    "    k = int(ceil(k))\n",
    "    tmp = ''\n",
    "    for i in range(0, k):\n",
    "        tmp += sha1(x + I2OSP(i, 4) + certi).hexdigest()\n",
    "    return tmp[:l * 2]\n",
    "\n",
    "\n",
    "def I2OSP(li, l):\n",
    "    h_str = '%X' % li\n",
    "    return a2b_hex(h_str.zfill(2 * l))"
   ]
  },
  {
   "cell_type": "code",
   "execution_count": 2,
   "metadata": {},
   "outputs": [],
   "source": [
    "def keygen():\n",
    "    d = randint(1, n - 1)\n",
    "    Q = d * P\n",
    "    return (Q, d)"
   ]
  },
  {
   "cell_type": "code",
   "execution_count": 3,
   "metadata": {},
   "outputs": [],
   "source": [
    "def encrypt(Q, m):\n",
    "    k = randint(1, n - 1)\n",
    "    R = k * P\n",
    "    Z = h * k * Q\n",
    "    l = ceil(math.log(n, 2)/8)\n",
    "    (zx, zy) = Z.xy()\n",
    "    zxstr = I2OSP(zx, l)\n",
    "    rstr = point2str(R, l)\n",
    "    s = keyDerivation(zxstr, l, rstr)\n",
    "    k1 = s[0:l]\n",
    "    k2 = s[l:2*l]\n",
    "    aes = AES.new(k1)\n",
    "    C = aes.encrypt(padding(m))\n",
    "    k_hmac = hmac.new(k2.encode(\"utf-8\"))\n",
    "    k_hmac.update(C)\n",
    "    t = k_hmac.digest()\n",
    "    return [R, C, t]"
   ]
  },
  {
   "cell_type": "code",
   "execution_count": 4,
   "metadata": {},
   "outputs": [],
   "source": [
    "def decrypt(R, C, t, d):\n",
    "    Z = h * d * R\n",
    "    l = ceil(math.log(n, 2)/8)\n",
    "    (zx, zy) = Z.xy()\n",
    "    zxstr = I2OSP(zx, l)\n",
    "    rstr = point2str(R, l)\n",
    "    s = keyDerivation(zxstr, l, rstr)\n",
    "    k1 = s[0:l]\n",
    "    k2 = s[l:2*l]\n",
    "    k_hmac = hmac.new(k2.encode(\"utf-8\"))\n",
    "    k_hmac.update(C)\n",
    "    t1 = k_hmac.digest()\n",
    "    if t1 != t:\n",
    "        return False\n",
    "    aes = AES.new(k1)\n",
    "    m = aes.decrypt(C)\n",
    "    return m"
   ]
  },
  {
   "cell_type": "code",
   "execution_count": 5,
   "metadata": {},
   "outputs": [],
   "source": [
    "F = FiniteField(2**192 - 2**64 - 1)\n",
    "a  = -3\n",
    "b  = 0x64210519E59C80E70FA7E9AB72243049FEB8DEECC146B9B1\n",
    "E  = EllipticCurve(F, [a, b])\n",
    "P  = E((0x188DA80EB03090F67CBF20EB43A18800F4FF0AFD82FF1012,0x07192B95FFC8DA78631011ED6B24CDD573F977A11E794811))\n",
    "n  = 0xFFFFFFFFFFFFFFFFFFFFFFFF99DEF836146BC9B1B4D22831\n",
    "h  = 1\n",
    "Fn = FiniteField(n)"
   ]
  },
  {
   "cell_type": "code",
   "execution_count": 6,
   "metadata": {},
   "outputs": [],
   "source": [
    "(Q, d) = keygen()"
   ]
  },
  {
   "cell_type": "code",
   "execution_count": 7,
   "metadata": {},
   "outputs": [],
   "source": [
    "msg = \"Elliptic Curve Cryptography\""
   ]
  },
  {
   "cell_type": "code",
   "execution_count": 8,
   "metadata": {},
   "outputs": [
    {
     "name": "stderr",
     "output_type": "stream",
     "text": [
      "/home/sage/sage/local/lib/python3.7/hmac.py:153: DeprecationWarning: HMAC() without an explicit digestmod argument is deprecated since Python 3.4, and will be removed in 3.8\n",
      "  return HMAC(key, msg, digestmod)\n"
     ]
    }
   ],
   "source": [
    "[R, C, t] = encrypt(Q, msg)"
   ]
  },
  {
   "cell_type": "code",
   "execution_count": 9,
   "metadata": {},
   "outputs": [
    {
     "name": "stderr",
     "output_type": "stream",
     "text": [
      "/home/sage/sage/local/lib/python3.7/hmac.py:153: DeprecationWarning: HMAC() without an explicit digestmod argument is deprecated since Python 3.4, and will be removed in 3.8\n",
      "  return HMAC(key, msg, digestmod)\n"
     ]
    },
    {
     "data": {
      "text/plain": [
       "b'Elliptic Curve Cryptography\\x00\\x00\\x00\\x00\\x00'"
      ]
     },
     "execution_count": 9,
     "metadata": {},
     "output_type": "execute_result"
    }
   ],
   "source": [
    "decrypt(R, C, t, d)"
   ]
  }
 ],
 "metadata": {
  "kernelspec": {
   "display_name": "SageMath 9.1",
   "language": "sage",
   "name": "sagemath"
  },
  "language_info": {
   "codemirror_mode": {
    "name": "ipython",
    "version": 3
   },
   "file_extension": ".py",
   "mimetype": "text/x-python",
   "name": "python",
   "nbconvert_exporter": "python",
   "pygments_lexer": "ipython3",
   "version": "3.7.3"
  }
 },
 "nbformat": 4,
 "nbformat_minor": 2
}
